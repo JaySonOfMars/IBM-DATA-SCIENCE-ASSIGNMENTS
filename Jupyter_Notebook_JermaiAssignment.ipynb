{
 "cells": [
  {
   "cell_type": "markdown",
   "metadata": {},
   "source": [
    "<center>\n",
    "    <img src=\"https://cf-courses-data.s3.us.cloud-object-storage.appdomain.cloud/IBMDeveloperSkillsNetwork-DS0105EN-SkillsNetwork/labs/Module2/images/SN_web_lightmode.png\" width=\"300\" alt=\"cognitiveclass.ai logo\"  />\n",
    "</center>\n"
   ]
  },
  {
   "cell_type": "markdown",
   "metadata": {},
   "source": [
    "#### Add your code below following the instructions given in the course\n"
   ]
  },
  {
   "cell_type": "markdown",
   "metadata": {},
   "source": [
    "# My Jupyter Notebook on IBM Watson Studio"
   ]
  },
  {
   "cell_type": "markdown",
   "metadata": {},
   "source": [
    "### Introduction:\n",
    "|Name:Jermai Al Toussaint|\n",
    "| ------ |\n",
    "|Current Occupation: EUV Trainer|\n",
    "|Desired occupation: Data Scientist / Software Engineer|\n"
   ]
  },
  {
   "cell_type": "markdown",
   "metadata": {},
   "source": [
    "### Purpose:\n",
    "1. *I am interested in data science because I believe that the skills acquired here will help me throughout my career.Most big firms currently amass so much data and hope to use this to benefit their operations.* \n",
    "2. *I believe not only does data science open up new doors but also allows me to understnd more about the corporate world and their operations.*"
   ]
  },
  {
   "cell_type": "markdown",
   "metadata": {
    "tags": []
   },
   "source": [
    "### This code does the summation of tuples."
   ]
  },
  {
   "cell_type": "code",
   "execution_count": 8,
   "metadata": {},
   "outputs": [
    {
     "name": "stdout",
     "output_type": "stream",
     "text": [
      "Sum of X= 15\n",
      "Sum of Y= 30\n",
      "Sum of Z= 45\n"
     ]
    }
   ],
   "source": [
    "A=(1,2,3,4,5)\n",
    "B=(2,4,6,8,10)\n",
    "\n",
    "X= sum(A)\n",
    "Y=sum(B)\n",
    "Z=X+Y\n",
    "\n",
    "print (\"Sum of X=\",X)\n",
    "print (\"Sum of Y=\",Y)\n",
    "print (\"Sum of Z=\",Z)"
   ]
  },
  {
   "cell_type": "markdown",
   "metadata": {},
   "source": [
    "## EUV Team Dinner Arrangements"
   ]
  },
  {
   "cell_type": "markdown",
   "metadata": {},
   "source": [
    "| Names       | Department           | Food preference  |\n",
    "| ------------- |:-------------:| -----:|\n",
    "| Jermai      | EUV | Non-Veg |\n",
    "| Jayson      | Installs      |   Veg |\n",
    "| Mars | Service      |    Veg |  \n",
    "  \n",
    "   \n",
    "\n",
    "Vegan:   \n",
    "![alt text](https://th.bing.com/th/id/OIP.Ubzf1wZsMOnbdOn538R6OwHaHa?pid=ImgDet&rs=1)  \n",
    "Non-Veg:  \n",
    "![alt text](https://th.bing.com/th/id/R.a5dd7706f527ae5271bba22e2a131d75?rik=C2zPSvyHeHRJVg&pid=ImgRaw&r=0)\n",
    "\n",
    "### Collection Area\n",
    "1. First Floor - Team A&B\n",
    "2. Second Floor - Team C&D\n",
    "3. Third Floor - Team E&F\n",
    "\n"
   ]
  },
  {
   "cell_type": "code",
   "execution_count": null,
   "metadata": {},
   "outputs": [],
   "source": []
  }
 ],
 "metadata": {
  "kernelspec": {
   "display_name": "Python",
   "language": "python",
   "name": "conda-env-python-py"
  },
  "language_info": {
   "codemirror_mode": {
    "name": "ipython",
    "version": 3
   },
   "file_extension": ".py",
   "mimetype": "text/x-python",
   "name": "python",
   "nbconvert_exporter": "python",
   "pygments_lexer": "ipython3",
   "version": "3.7.12"
  }
 },
 "nbformat": 4,
 "nbformat_minor": 4
}
